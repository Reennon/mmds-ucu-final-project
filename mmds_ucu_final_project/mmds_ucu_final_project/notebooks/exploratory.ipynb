{
 "cells": [
  {
   "cell_type": "code",
   "execution_count": 3,
   "outputs": [],
   "source": [
    "from pyspark import SparkContext\n",
    "from pyspark.streaming import StreamingContext\n",
    "import json\n",
    "import requests"
   ],
   "metadata": {
    "collapsed": false,
    "ExecuteTime": {
     "end_time": "2024-11-11T18:11:57.114779Z",
     "start_time": "2024-11-11T18:11:56.277215Z"
    }
   }
  },
  {
   "cell_type": "code",
   "execution_count": 12,
   "outputs": [],
   "source": [
    "from pyspark.sql import SparkSession\n",
    "\n",
    "spark = SparkSession.builder.appName(\"WikipediaEdits\").getOrCreate()\n",
    "sc = spark.sparkContext\n",
    "ssc = StreamingContext(sc, batchDuration=5)  # Batch duration of 5 seconds\n",
    "\n",
    "# Function to fetch data from the stream\n",
    "def get_stream():\n",
    "    import websocket\n",
    "    import threading\n",
    "\n",
    "    url = \"wss://stream.wikimedia.org/v2/stream/recentchange\"\n",
    "\n",
    "    def on_message(ws, message):\n",
    "        ssc.queueStream([sc.parallelize([message])])\n",
    "\n",
    "    ws = websocket.WebSocketApp(url, on_message=on_message)\n",
    "    wst = threading.Thread(target=ws.run_forever)\n",
    "    wst.start()\n",
    "\n",
    "get_stream()\n"
   ],
   "metadata": {
    "collapsed": false,
    "ExecuteTime": {
     "end_time": "2024-11-11T18:15:52.939362Z",
     "start_time": "2024-11-11T18:15:52.928435Z"
    }
   }
  },
  {
   "cell_type": "code",
   "execution_count": 13,
   "outputs": [
    {
     "ename": "IndexError",
     "evalue": "list index out of range",
     "output_type": "error",
     "traceback": [
      "\u001B[0;31m---------------------------------------------------------------------------\u001B[0m",
      "\u001B[0;31mIndexError\u001B[0m                                Traceback (most recent call last)",
      "Cell \u001B[0;32mIn[13], line 4\u001B[0m\n\u001B[1;32m      1\u001B[0m \u001B[38;5;28;01mdef\u001B[39;00m \u001B[38;5;21msample_stream\u001B[39m(rdd):\n\u001B[1;32m      2\u001B[0m     \u001B[38;5;28;01mreturn\u001B[39;00m rdd\u001B[38;5;241m.\u001B[39msample(\u001B[38;5;28;01mFalse\u001B[39;00m, \u001B[38;5;241m0.2\u001B[39m)\n\u001B[0;32m----> 4\u001B[0m sampled_stream \u001B[38;5;241m=\u001B[39m \u001B[43mssc\u001B[49m\u001B[38;5;241;43m.\u001B[39;49m\u001B[43mqueueStream\u001B[49m\u001B[43m(\u001B[49m\u001B[43m[\u001B[49m\u001B[43m]\u001B[49m\u001B[43m)\u001B[49m\u001B[38;5;241m.\u001B[39mtransform(sample_stream)\n",
      "File \u001B[0;32m~/Library/Caches/pypoetry/virtualenvs/data-viz-final-project-wMDNdqrB-py3.12/lib/python3.12/site-packages/pyspark/streaming/context.py:401\u001B[0m, in \u001B[0;36mStreamingContext.queueStream\u001B[0;34m(self, rdds, oneAtATime, default)\u001B[0m\n\u001B[1;32m    399\u001B[0m \u001B[38;5;28;01melse\u001B[39;00m:\n\u001B[1;32m    400\u001B[0m     jdstream \u001B[38;5;241m=\u001B[39m \u001B[38;5;28mself\u001B[39m\u001B[38;5;241m.\u001B[39m_jssc\u001B[38;5;241m.\u001B[39mqueueStream(queue, oneAtATime)\n\u001B[0;32m--> 401\u001B[0m \u001B[38;5;28;01mreturn\u001B[39;00m DStream(jdstream, \u001B[38;5;28mself\u001B[39m, \u001B[43mrdds\u001B[49m\u001B[43m[\u001B[49m\u001B[38;5;241;43m0\u001B[39;49m\u001B[43m]\u001B[49m\u001B[38;5;241m.\u001B[39m_jrdd_deserializer)\n",
      "\u001B[0;31mIndexError\u001B[0m: list index out of range"
     ]
    }
   ],
   "source": [
    "def sample_stream(rdd):\n",
    "    return rdd.sample(False, 0.2)\n",
    "\n",
    "sampled_stream = ssc.queueStream([]).transform(sample_stream)\n"
   ],
   "metadata": {
    "collapsed": false,
    "ExecuteTime": {
     "end_time": "2024-11-11T18:15:57.802760Z",
     "start_time": "2024-11-11T18:15:57.780064Z"
    }
   }
  },
  {
   "cell_type": "code",
   "execution_count": 6,
   "outputs": [],
   "source": [
    "def extract_features(rdd):\n",
    "    def parse_json(line):\n",
    "        try:\n",
    "            data = json.loads(line)\n",
    "            features = {\n",
    "                'bot': data.get('bot', False),\n",
    "                'type': data.get('type', ''),\n",
    "                'namespace': data.get('namespace', 0),\n",
    "                'minor': data.get('minor', False),\n",
    "                'comment_length': len(data.get('comment', '')),\n",
    "                'hour': int(data.get('timestamp', 0)) % 86400 // 3600,\n",
    "                'day_of_week': int(data.get('timestamp', 0)) // 86400 % 7\n",
    "            }\n",
    "            return features\n",
    "        except Exception:\n",
    "            return None\n",
    "    return rdd.map(parse_json).filter(lambda x: x is not None)\n"
   ],
   "metadata": {
    "collapsed": false,
    "ExecuteTime": {
     "end_time": "2024-11-11T18:15:08.127999Z",
     "start_time": "2024-11-11T18:15:08.125675Z"
    }
   }
  },
  {
   "cell_type": "code",
   "execution_count": 7,
   "outputs": [
    {
     "ename": "NameError",
     "evalue": "name 'sampled_stream' is not defined",
     "output_type": "error",
     "traceback": [
      "\u001B[0;31m---------------------------------------------------------------------------\u001B[0m",
      "\u001B[0;31mNameError\u001B[0m                                 Traceback (most recent call last)",
      "Cell \u001B[0;32mIn[7], line 1\u001B[0m\n\u001B[0;32m----> 1\u001B[0m features_stream \u001B[38;5;241m=\u001B[39m \u001B[43msampled_stream\u001B[49m\u001B[38;5;241m.\u001B[39mtransform(extract_features)\n",
      "\u001B[0;31mNameError\u001B[0m: name 'sampled_stream' is not defined"
     ]
    }
   ],
   "source": [
    "features_stream = sampled_stream.transform(extract_features)\n"
   ],
   "metadata": {
    "collapsed": false,
    "ExecuteTime": {
     "end_time": "2024-11-11T18:15:09.581875Z",
     "start_time": "2024-11-11T18:15:09.580927Z"
    }
   }
  }
 ],
 "metadata": {
  "kernelspec": {
   "display_name": "Python 3",
   "language": "python",
   "name": "python3"
  },
  "language_info": {
   "codemirror_mode": {
    "name": "ipython",
    "version": 2
   },
   "file_extension": ".py",
   "mimetype": "text/x-python",
   "name": "python",
   "nbconvert_exporter": "python",
   "pygments_lexer": "ipython2",
   "version": "2.7.6"
  }
 },
 "nbformat": 4,
 "nbformat_minor": 0
}
