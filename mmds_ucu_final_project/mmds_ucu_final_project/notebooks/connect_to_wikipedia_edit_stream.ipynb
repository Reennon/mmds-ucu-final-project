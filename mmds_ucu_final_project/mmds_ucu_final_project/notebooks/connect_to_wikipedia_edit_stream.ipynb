{
 "cells": [
  {
   "cell_type": "code",
   "execution_count": null,
   "outputs": [],
   "source": [
    "from pyspark import SparkContext\n",
    "from pyspark.streaming import StreamingContext\n",
    "import json\n"
   ],
   "metadata": {
    "collapsed": false,
    "is_executing": true
   }
  },
  {
   "cell_type": "code",
   "execution_count": null,
   "metadata": {
    "collapsed": true,
    "is_executing": true
   },
   "outputs": [],
   "source": [
    "sc = SparkContext(appName=\"WikipediaRCStreamBotDetection\")\n",
    "ssc = StreamingContext(sc, 5)  # 5-second batch interval\n",
    "\n",
    "# Step 3: Set up the connection to the RCStream endpoint (Replace with RCStream-compatible streaming solution)\n",
    "# In production, you would connect to a real WebSocket or streaming service\n",
    "# For demo purposes, we simulate by using a local socket\n",
    "streaming_data = ssc.socketTextStream(\"https://stream.wikimedia.org/v2/stream/recentchange\", 443)  # Use correct RCStream URL for real setup\n",
    "\n",
    "# Step 4: Define a basic processing function to parse JSON data\n",
    "def process_json_data(rdd):\n",
    "    if not rdd.isEmpty():\n",
    "        data = rdd.map(lambda x: json.loads(x))\n",
    "        # Print out a sample of the data to confirm structure\n",
    "        data.pprint()  # For debugging, remove or modify as needed\n",
    "\n",
    "# Step 5: Apply the processing function to the streaming data\n",
    "streaming_data.foreachRDD(process_json_data)\n",
    "\n",
    "# Start the streaming context\n",
    "ssc.start()\n",
    "ssc.awaitTermination()"
   ]
  }
 ],
 "metadata": {
  "kernelspec": {
   "display_name": "Python 3",
   "language": "python",
   "name": "python3"
  },
  "language_info": {
   "codemirror_mode": {
    "name": "ipython",
    "version": 2
   },
   "file_extension": ".py",
   "mimetype": "text/x-python",
   "name": "python",
   "nbconvert_exporter": "python",
   "pygments_lexer": "ipython2",
   "version": "2.7.6"
  }
 },
 "nbformat": 4,
 "nbformat_minor": 0
}
