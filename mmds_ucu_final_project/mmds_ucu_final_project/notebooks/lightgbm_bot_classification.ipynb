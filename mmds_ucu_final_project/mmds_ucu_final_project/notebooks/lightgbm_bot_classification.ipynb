{
 "cells": [
  {
   "cell_type": "code",
   "metadata": {
    "is_executing": true,
    "ExecuteTime": {
     "end_time": "2024-11-19T21:18:10.574325Z",
     "start_time": "2024-11-19T21:18:10.469305Z"
    }
   },
   "source": [
    "import pandas as pd\n",
    "from sklearn.model_selection import train_test_split\n",
    "from sklearn.feature_extraction.text import CountVectorizer\n",
    "from sklearn.metrics import (\n",
    "    accuracy_score, precision_score, recall_score, f1_score, confusion_matrix\n",
    ")\n",
    "import lightgbm as lgb\n",
    "import numpy as np\n",
    "import os\n",
    "import matplotlib.pyplot as plt\n",
    "import seaborn as sns\n",
    "from mmds_ucu_final_project.src.bloom_filter import BotBloomFilter\n",
    "from mmds_ucu_final_project.src.utils import extract_keywords_from_comment\n",
    "artifact_folder = \"../../../artifacts/\"\n",
    "file_path = \"../data/raw_wikipedia_edits.csv\""
   ],
   "outputs": [],
   "execution_count": 1
  },
  {
   "cell_type": "code",
   "metadata": {
    "collapsed": false,
    "jupyter": {
     "outputs_hidden": false
    },
    "ExecuteTime": {
     "end_time": "2024-11-19T21:18:10.799255Z",
     "start_time": "2024-11-19T21:18:10.735246Z"
    }
   },
   "source": [
    "wiki_df = pd.read_csv(file_path)\n",
    "wiki_df"
   ],
   "outputs": [
    {
     "data": {
      "text/plain": [
       "                                                   title       username  \\\n",
       "0                                              Q89857530  Twofivesixbot   \n",
       "1                                                  јажар  118.216.30.67   \n",
       "2                              User:Rocketwidget/sandbox   Rocketwidget   \n",
       "3      File:Track through the farmland - geograph.org...    GeographBot   \n",
       "4                                             Q131258195          Bob08   \n",
       "...                                                  ...            ...   \n",
       "40128                                         Q131258624          Bob08   \n",
       "40129       ਸ਼੍ਰੇਣੀ:Pages using the JsonConfig extension     Meenukusam   \n",
       "40130  ਸ਼੍ਰੇਣੀ:CS1 ਅੰਗਰੇਜ਼ੀ (ਅਮਰੀਕੀ)-language sources...     Meenukusam   \n",
       "40131  File:Richfield High School Yearbook 1968; Aure...       DPLA bot   \n",
       "40132  File:Window s.XXXVIII , Lincoln Cathedral (225...       AnRo0002   \n",
       "\n",
       "          timestamp  bot_ground_truth  time_interval  \\\n",
       "0      1.732031e+09              True            NaN   \n",
       "1      1.732031e+09             False            NaN   \n",
       "2      1.732031e+09             False            NaN   \n",
       "3      1.732031e+09              True            NaN   \n",
       "4      1.732031e+09             False            NaN   \n",
       "...             ...               ...            ...   \n",
       "40128  1.732032e+09             False            1.0   \n",
       "40129  1.732032e+09             False          736.0   \n",
       "40130  1.732032e+09             False            NaN   \n",
       "40131  1.732032e+09              True            NaN   \n",
       "40132  1.732032e+09             False            NaN   \n",
       "\n",
       "                                                 comment  edit_size  \\\n",
       "0      /* wbeditentity-update-languages-and-other-sho...    -1637.0   \n",
       "1                                                    NaN        NaN   \n",
       "2                How to make infobox mapframe work added        0.0   \n",
       "3      Uploading geograph.org.uk image from https://w...        NaN   \n",
       "4      /* wbcreateclaim-create:1| */ [[Property:P1320...      355.0   \n",
       "...                                                  ...        ...   \n",
       "40128  /* wbsetreference-add:2| */ [[Property:P1320]]...      453.0   \n",
       "40129  [[:ਪਾਕਿਸਤਾਨੀ ਗ਼ਜ਼ਲ ਗਾਇਕਾਂ ਦੀ ਸੂਚੀ]] ਸ਼੍ਰੇਣੀ ਵਿ...        NaN   \n",
       "40130  [[:ਪਾਕਿਸਤਾਨੀ ਗ਼ਜ਼ਲ ਗਾਇਕਾਂ ਦੀ ਸੂਚੀ]] ਸ਼੍ਰੇਣੀ ਵਿ...        NaN   \n",
       "40131  Uploading DPLA ID \"[[dpla:a1ee0ab069249101074b...        NaN   \n",
       "40132  Moving from [[Category:Lincoln Cathedral, Stai...        1.0   \n",
       "\n",
       "            formatted_time  \n",
       "0      2024-11-19 15:43:58  \n",
       "1      2024-11-19 15:44:00  \n",
       "2      2024-11-19 15:43:58  \n",
       "3      2024-11-19 15:43:58  \n",
       "4      2024-11-19 15:43:59  \n",
       "...                    ...  \n",
       "40128  2024-11-19 16:03:53  \n",
       "40129  2024-11-19 16:03:50  \n",
       "40130  2024-11-19 16:03:50  \n",
       "40131  2024-11-19 16:03:51  \n",
       "40132  2024-11-19 16:03:52  \n",
       "\n",
       "[40133 rows x 8 columns]"
      ],
      "text/html": [
       "<div>\n",
       "<style scoped>\n",
       "    .dataframe tbody tr th:only-of-type {\n",
       "        vertical-align: middle;\n",
       "    }\n",
       "\n",
       "    .dataframe tbody tr th {\n",
       "        vertical-align: top;\n",
       "    }\n",
       "\n",
       "    .dataframe thead th {\n",
       "        text-align: right;\n",
       "    }\n",
       "</style>\n",
       "<table border=\"1\" class=\"dataframe\">\n",
       "  <thead>\n",
       "    <tr style=\"text-align: right;\">\n",
       "      <th></th>\n",
       "      <th>title</th>\n",
       "      <th>username</th>\n",
       "      <th>timestamp</th>\n",
       "      <th>bot_ground_truth</th>\n",
       "      <th>time_interval</th>\n",
       "      <th>comment</th>\n",
       "      <th>edit_size</th>\n",
       "      <th>formatted_time</th>\n",
       "    </tr>\n",
       "  </thead>\n",
       "  <tbody>\n",
       "    <tr>\n",
       "      <th>0</th>\n",
       "      <td>Q89857530</td>\n",
       "      <td>Twofivesixbot</td>\n",
       "      <td>1.732031e+09</td>\n",
       "      <td>True</td>\n",
       "      <td>NaN</td>\n",
       "      <td>/* wbeditentity-update-languages-and-other-sho...</td>\n",
       "      <td>-1637.0</td>\n",
       "      <td>2024-11-19 15:43:58</td>\n",
       "    </tr>\n",
       "    <tr>\n",
       "      <th>1</th>\n",
       "      <td>јажар</td>\n",
       "      <td>118.216.30.67</td>\n",
       "      <td>1.732031e+09</td>\n",
       "      <td>False</td>\n",
       "      <td>NaN</td>\n",
       "      <td>NaN</td>\n",
       "      <td>NaN</td>\n",
       "      <td>2024-11-19 15:44:00</td>\n",
       "    </tr>\n",
       "    <tr>\n",
       "      <th>2</th>\n",
       "      <td>User:Rocketwidget/sandbox</td>\n",
       "      <td>Rocketwidget</td>\n",
       "      <td>1.732031e+09</td>\n",
       "      <td>False</td>\n",
       "      <td>NaN</td>\n",
       "      <td>How to make infobox mapframe work added</td>\n",
       "      <td>0.0</td>\n",
       "      <td>2024-11-19 15:43:58</td>\n",
       "    </tr>\n",
       "    <tr>\n",
       "      <th>3</th>\n",
       "      <td>File:Track through the farmland - geograph.org...</td>\n",
       "      <td>GeographBot</td>\n",
       "      <td>1.732031e+09</td>\n",
       "      <td>True</td>\n",
       "      <td>NaN</td>\n",
       "      <td>Uploading geograph.org.uk image from https://w...</td>\n",
       "      <td>NaN</td>\n",
       "      <td>2024-11-19 15:43:58</td>\n",
       "    </tr>\n",
       "    <tr>\n",
       "      <th>4</th>\n",
       "      <td>Q131258195</td>\n",
       "      <td>Bob08</td>\n",
       "      <td>1.732031e+09</td>\n",
       "      <td>False</td>\n",
       "      <td>NaN</td>\n",
       "      <td>/* wbcreateclaim-create:1| */ [[Property:P1320...</td>\n",
       "      <td>355.0</td>\n",
       "      <td>2024-11-19 15:43:59</td>\n",
       "    </tr>\n",
       "    <tr>\n",
       "      <th>...</th>\n",
       "      <td>...</td>\n",
       "      <td>...</td>\n",
       "      <td>...</td>\n",
       "      <td>...</td>\n",
       "      <td>...</td>\n",
       "      <td>...</td>\n",
       "      <td>...</td>\n",
       "      <td>...</td>\n",
       "    </tr>\n",
       "    <tr>\n",
       "      <th>40128</th>\n",
       "      <td>Q131258624</td>\n",
       "      <td>Bob08</td>\n",
       "      <td>1.732032e+09</td>\n",
       "      <td>False</td>\n",
       "      <td>1.0</td>\n",
       "      <td>/* wbsetreference-add:2| */ [[Property:P1320]]...</td>\n",
       "      <td>453.0</td>\n",
       "      <td>2024-11-19 16:03:53</td>\n",
       "    </tr>\n",
       "    <tr>\n",
       "      <th>40129</th>\n",
       "      <td>ਸ਼੍ਰੇਣੀ:Pages using the JsonConfig extension</td>\n",
       "      <td>Meenukusam</td>\n",
       "      <td>1.732032e+09</td>\n",
       "      <td>False</td>\n",
       "      <td>736.0</td>\n",
       "      <td>[[:ਪਾਕਿਸਤਾਨੀ ਗ਼ਜ਼ਲ ਗਾਇਕਾਂ ਦੀ ਸੂਚੀ]] ਸ਼੍ਰੇਣੀ ਵਿ...</td>\n",
       "      <td>NaN</td>\n",
       "      <td>2024-11-19 16:03:50</td>\n",
       "    </tr>\n",
       "    <tr>\n",
       "      <th>40130</th>\n",
       "      <td>ਸ਼੍ਰੇਣੀ:CS1 ਅੰਗਰੇਜ਼ੀ (ਅਮਰੀਕੀ)-language sources...</td>\n",
       "      <td>Meenukusam</td>\n",
       "      <td>1.732032e+09</td>\n",
       "      <td>False</td>\n",
       "      <td>NaN</td>\n",
       "      <td>[[:ਪਾਕਿਸਤਾਨੀ ਗ਼ਜ਼ਲ ਗਾਇਕਾਂ ਦੀ ਸੂਚੀ]] ਸ਼੍ਰੇਣੀ ਵਿ...</td>\n",
       "      <td>NaN</td>\n",
       "      <td>2024-11-19 16:03:50</td>\n",
       "    </tr>\n",
       "    <tr>\n",
       "      <th>40131</th>\n",
       "      <td>File:Richfield High School Yearbook 1968; Aure...</td>\n",
       "      <td>DPLA bot</td>\n",
       "      <td>1.732032e+09</td>\n",
       "      <td>True</td>\n",
       "      <td>NaN</td>\n",
       "      <td>Uploading DPLA ID \"[[dpla:a1ee0ab069249101074b...</td>\n",
       "      <td>NaN</td>\n",
       "      <td>2024-11-19 16:03:51</td>\n",
       "    </tr>\n",
       "    <tr>\n",
       "      <th>40132</th>\n",
       "      <td>File:Window s.XXXVIII , Lincoln Cathedral (225...</td>\n",
       "      <td>AnRo0002</td>\n",
       "      <td>1.732032e+09</td>\n",
       "      <td>False</td>\n",
       "      <td>NaN</td>\n",
       "      <td>Moving from [[Category:Lincoln Cathedral, Stai...</td>\n",
       "      <td>1.0</td>\n",
       "      <td>2024-11-19 16:03:52</td>\n",
       "    </tr>\n",
       "  </tbody>\n",
       "</table>\n",
       "<p>40133 rows × 8 columns</p>\n",
       "</div>"
      ]
     },
     "execution_count": 2,
     "metadata": {},
     "output_type": "execute_result"
    }
   ],
   "execution_count": 2
  },
  {
   "cell_type": "code",
   "metadata": {
    "collapsed": false,
    "jupyter": {
     "outputs_hidden": false
    },
    "ExecuteTime": {
     "end_time": "2024-11-19T21:18:10.984299Z",
     "start_time": "2024-11-19T21:18:10.912956Z"
    }
   },
   "source": [
    "# Extract keywords from the comments\n",
    "wiki_df['comment_keywords'] = wiki_df['comment'].apply(extract_keywords_from_comment)\n",
    "# Convert comment keywords into features using CountVectorizer\n",
    "vectorizer = CountVectorizer()\n",
    "comment_features = vectorizer.fit_transform(wiki_df['comment_keywords']).toarray()\n",
    "comment_features_df = pd.DataFrame(comment_features, columns=vectorizer.get_feature_names_out())"
   ],
   "outputs": [],
   "execution_count": 3
  },
  {
   "cell_type": "code",
   "metadata": {
    "collapsed": false,
    "jupyter": {
     "outputs_hidden": false
    },
    "ExecuteTime": {
     "end_time": "2024-11-19T21:18:11.017540Z",
     "start_time": "2024-11-19T21:18:11.013825Z"
    }
   },
   "source": [
    "# Combine numerical features and comment keyword features\n",
    "wiki_df['edit_size'] = pd.to_numeric(wiki_df['edit_size'], errors='coerce').fillna(0)  # Ensure edit_size is numeric\n",
    "X = pd.concat([wiki_df[['username', 'time_interval', 'edit_size']].reset_index(drop=True), comment_features_df], axis=1)\n",
    "y = wiki_df['bot_ground_truth'].astype(int)  # Target variable"
   ],
   "outputs": [],
   "execution_count": 4
  },
  {
   "cell_type": "code",
   "metadata": {
    "collapsed": false,
    "jupyter": {
     "outputs_hidden": false
    },
    "ExecuteTime": {
     "end_time": "2024-11-19T21:18:11.453404Z",
     "start_time": "2024-11-19T21:18:11.442041Z"
    }
   },
   "source": [
    "# Train-test split (90%-10%)\n",
    "# Keeping 'username' in X to maintain alignment during splitting\n",
    "X_train, X_test, y_train, y_test = train_test_split(X, y, test_size=0.1, random_state=42, stratify=y)\n",
    "\n",
    "username_train = X_train['username']\n",
    "username_test = X_test['username']\n",
    "\n",
    "X_train = X_train.drop(columns=['username'])\n",
    "X_test = X_test.drop(columns=['username'])"
   ],
   "outputs": [],
   "execution_count": 5
  },
  {
   "metadata": {
    "ExecuteTime": {
     "end_time": "2024-11-19T21:18:12.068304Z",
     "start_time": "2024-11-19T21:18:12.062069Z"
    }
   },
   "cell_type": "code",
   "source": "X_test.head()",
   "outputs": [
    {
     "data": {
      "text/plain": [
       "       time_interval  edit_size  added  auto  bot  fix  generic_edit  revert  \\\n",
       "13794            NaN     1096.0      0     0    0    0             1       0   \n",
       "8659             NaN        0.0      0     0    0    0             1       0   \n",
       "23842            NaN      872.0      0     0    0    0             1       0   \n",
       "22772            4.0        0.0      1     0    0    0             0       0   \n",
       "15921            NaN        0.0      0     0    0    0             1       0   \n",
       "\n",
       "       undo  updated  \n",
       "13794     0        0  \n",
       "8659      0        0  \n",
       "23842     0        0  \n",
       "22772     0        0  \n",
       "15921     0        0  "
      ],
      "text/html": [
       "<div>\n",
       "<style scoped>\n",
       "    .dataframe tbody tr th:only-of-type {\n",
       "        vertical-align: middle;\n",
       "    }\n",
       "\n",
       "    .dataframe tbody tr th {\n",
       "        vertical-align: top;\n",
       "    }\n",
       "\n",
       "    .dataframe thead th {\n",
       "        text-align: right;\n",
       "    }\n",
       "</style>\n",
       "<table border=\"1\" class=\"dataframe\">\n",
       "  <thead>\n",
       "    <tr style=\"text-align: right;\">\n",
       "      <th></th>\n",
       "      <th>time_interval</th>\n",
       "      <th>edit_size</th>\n",
       "      <th>added</th>\n",
       "      <th>auto</th>\n",
       "      <th>bot</th>\n",
       "      <th>fix</th>\n",
       "      <th>generic_edit</th>\n",
       "      <th>revert</th>\n",
       "      <th>undo</th>\n",
       "      <th>updated</th>\n",
       "    </tr>\n",
       "  </thead>\n",
       "  <tbody>\n",
       "    <tr>\n",
       "      <th>13794</th>\n",
       "      <td>NaN</td>\n",
       "      <td>1096.0</td>\n",
       "      <td>0</td>\n",
       "      <td>0</td>\n",
       "      <td>0</td>\n",
       "      <td>0</td>\n",
       "      <td>1</td>\n",
       "      <td>0</td>\n",
       "      <td>0</td>\n",
       "      <td>0</td>\n",
       "    </tr>\n",
       "    <tr>\n",
       "      <th>8659</th>\n",
       "      <td>NaN</td>\n",
       "      <td>0.0</td>\n",
       "      <td>0</td>\n",
       "      <td>0</td>\n",
       "      <td>0</td>\n",
       "      <td>0</td>\n",
       "      <td>1</td>\n",
       "      <td>0</td>\n",
       "      <td>0</td>\n",
       "      <td>0</td>\n",
       "    </tr>\n",
       "    <tr>\n",
       "      <th>23842</th>\n",
       "      <td>NaN</td>\n",
       "      <td>872.0</td>\n",
       "      <td>0</td>\n",
       "      <td>0</td>\n",
       "      <td>0</td>\n",
       "      <td>0</td>\n",
       "      <td>1</td>\n",
       "      <td>0</td>\n",
       "      <td>0</td>\n",
       "      <td>0</td>\n",
       "    </tr>\n",
       "    <tr>\n",
       "      <th>22772</th>\n",
       "      <td>4.0</td>\n",
       "      <td>0.0</td>\n",
       "      <td>1</td>\n",
       "      <td>0</td>\n",
       "      <td>0</td>\n",
       "      <td>0</td>\n",
       "      <td>0</td>\n",
       "      <td>0</td>\n",
       "      <td>0</td>\n",
       "      <td>0</td>\n",
       "    </tr>\n",
       "    <tr>\n",
       "      <th>15921</th>\n",
       "      <td>NaN</td>\n",
       "      <td>0.0</td>\n",
       "      <td>0</td>\n",
       "      <td>0</td>\n",
       "      <td>0</td>\n",
       "      <td>0</td>\n",
       "      <td>1</td>\n",
       "      <td>0</td>\n",
       "      <td>0</td>\n",
       "      <td>0</td>\n",
       "    </tr>\n",
       "  </tbody>\n",
       "</table>\n",
       "</div>"
      ]
     },
     "execution_count": 6,
     "metadata": {},
     "output_type": "execute_result"
    }
   ],
   "execution_count": 6
  },
  {
   "cell_type": "code",
   "metadata": {
    "ExecuteTime": {
     "end_time": "2024-11-19T21:18:12.449587Z",
     "start_time": "2024-11-19T21:18:12.447603Z"
    }
   },
   "source": [
    "def plot_confusion_matrix(conf_matrix, title):\n",
    "    \"\"\"\n",
    "    Plot a confusion matrix using seaborn heatmap.\n",
    "    \"\"\"\n",
    "    plt.figure(figsize=(8, 6))\n",
    "    sns.heatmap(conf_matrix, annot=True, fmt='d', cmap='Blues', xticklabels=[\"Bot\", \"Not Bot\"], yticklabels=[\"Bot\", \"Not Bot\"])\n",
    "    plt.xlabel(\"Predicted Label\")\n",
    "    plt.ylabel(\"True Label\")\n",
    "    plt.title(title)\n",
    "    plt.savefig(os.path.join(artifact_folder, title))\n",
    "    plt.show()"
   ],
   "outputs": [],
   "execution_count": 7
  },
  {
   "cell_type": "code",
   "metadata": {
    "ExecuteTime": {
     "end_time": "2024-11-19T21:18:12.680129Z",
     "start_time": "2024-11-19T21:18:12.622001Z"
    }
   },
   "source": [
    "# Sort the dataset by timestamp to ensure no future data is leaked\n",
    "wiki_df_sorted = wiki_df.sort_values(by=\"timestamp\")\n",
    "\n",
    "# Define split ratios for 80-10-10\n",
    "train_ratio = 0.8\n",
    "val_ratio = 0.1\n",
    "\n",
    "# Calculate split indices\n",
    "train_index = int(len(wiki_df_sorted) * train_ratio)\n",
    "val_index = int(len(wiki_df_sorted) * (train_ratio + val_ratio))\n",
    "\n",
    "# Perform time-based splits\n",
    "train_data = wiki_df_sorted.iloc[:train_index]  # First 80% for training\n",
    "val_data = wiki_df_sorted.iloc[train_index:val_index]  # Next 10% for validation\n",
    "test_data = wiki_df_sorted.iloc[val_index:]  # Remaining 10% for testing\n",
    "\n",
    "# Ensure 'edit_size' is numeric\n",
    "train_data['edit_size'] = pd.to_numeric(train_data['edit_size'], errors='coerce').fillna(0)\n",
    "val_data['edit_size'] = pd.to_numeric(val_data['edit_size'], errors='coerce').fillna(0)\n",
    "test_data['edit_size'] = pd.to_numeric(test_data['edit_size'], errors='coerce').fillna(0)\n",
    "\n",
    "# Apply CountVectorizer to each split\n",
    "vectorizer = CountVectorizer()\n",
    "\n",
    "# Fit the vectorizer on the training data\n",
    "train_comment_features = vectorizer.fit_transform(train_data['comment_keywords']).toarray()\n",
    "val_comment_features = vectorizer.transform(val_data['comment_keywords']).toarray()\n",
    "test_comment_features = vectorizer.transform(test_data['comment_keywords']).toarray()\n",
    "\n",
    "# Convert comment features to DataFrames\n",
    "train_comment_df = pd.DataFrame(train_comment_features, columns=vectorizer.get_feature_names_out())\n",
    "val_comment_df = pd.DataFrame(val_comment_features, columns=vectorizer.get_feature_names_out())\n",
    "test_comment_df = pd.DataFrame(test_comment_features, columns=vectorizer.get_feature_names_out())\n",
    "\n",
    "# Combine numerical and comment features for each split\n",
    "feature_columns = ['time_interval', 'edit_size']\n",
    "\n",
    "X_train = pd.concat([train_data[feature_columns].reset_index(drop=True), train_comment_df.reset_index(drop=True)], axis=1)\n",
    "X_val = pd.concat([val_data[feature_columns].reset_index(drop=True), val_comment_df.reset_index(drop=True)], axis=1)\n",
    "X_test = pd.concat([test_data[feature_columns].reset_index(drop=True), test_comment_df.reset_index(drop=True)], axis=1)\n",
    "\n",
    "# Extract target variable\n",
    "y_train = train_data['bot_ground_truth'].reset_index(drop=True).astype(int)\n",
    "y_val = val_data['bot_ground_truth'].reset_index(drop=True).astype(int)\n",
    "y_test = test_data['bot_ground_truth'].reset_index(drop=True).astype(int)\n",
    "\n",
    "# Confirm the splits\n",
    "print(\"Shapes of splits:\")\n",
    "print(\"X_train:\", X_train.shape, \"y_train:\", y_train.shape)\n",
    "print(\"X_val:\", X_val.shape, \"y_val:\", y_val.shape)\n",
    "print(\"X_test:\", X_test.shape, \"y_test:\", y_test.shape)\n"
   ],
   "outputs": [
    {
     "name": "stdout",
     "output_type": "stream",
     "text": [
      "Shapes of splits:\n",
      "X_train: (32106, 10) y_train: (32106,)\n",
      "X_val: (4013, 10) y_val: (4013,)\n",
      "X_test: (4014, 10) y_test: (4014,)\n"
     ]
    },
    {
     "name": "stderr",
     "output_type": "stream",
     "text": [
      "/var/folders/98/bqtm286x67nccq8djq5ty3pr0000gn/T/ipykernel_38905/2985078175.py:18: SettingWithCopyWarning: \n",
      "A value is trying to be set on a copy of a slice from a DataFrame.\n",
      "Try using .loc[row_indexer,col_indexer] = value instead\n",
      "\n",
      "See the caveats in the documentation: https://pandas.pydata.org/pandas-docs/stable/user_guide/indexing.html#returning-a-view-versus-a-copy\n",
      "  train_data['edit_size'] = pd.to_numeric(train_data['edit_size'], errors='coerce').fillna(0)\n",
      "/var/folders/98/bqtm286x67nccq8djq5ty3pr0000gn/T/ipykernel_38905/2985078175.py:19: SettingWithCopyWarning: \n",
      "A value is trying to be set on a copy of a slice from a DataFrame.\n",
      "Try using .loc[row_indexer,col_indexer] = value instead\n",
      "\n",
      "See the caveats in the documentation: https://pandas.pydata.org/pandas-docs/stable/user_guide/indexing.html#returning-a-view-versus-a-copy\n",
      "  val_data['edit_size'] = pd.to_numeric(val_data['edit_size'], errors='coerce').fillna(0)\n",
      "/var/folders/98/bqtm286x67nccq8djq5ty3pr0000gn/T/ipykernel_38905/2985078175.py:20: SettingWithCopyWarning: \n",
      "A value is trying to be set on a copy of a slice from a DataFrame.\n",
      "Try using .loc[row_indexer,col_indexer] = value instead\n",
      "\n",
      "See the caveats in the documentation: https://pandas.pydata.org/pandas-docs/stable/user_guide/indexing.html#returning-a-view-versus-a-copy\n",
      "  test_data['edit_size'] = pd.to_numeric(test_data['edit_size'], errors='coerce').fillna(0)\n"
     ]
    }
   ],
   "execution_count": 8
  },
  {
   "metadata": {},
   "cell_type": "markdown",
   "source": [
    "# Training the Light GBM model to classify the bots \n",
    "\n",
    "---"
   ]
  },
  {
   "metadata": {
    "ExecuteTime": {
     "end_time": "2024-11-19T21:18:13.284522Z",
     "start_time": "2024-11-19T21:18:13.280469Z"
    }
   },
   "cell_type": "code",
   "source": "X_test.head()",
   "outputs": [
    {
     "data": {
      "text/plain": [
       "   time_interval  edit_size  added  auto  bot  fix  generic_edit  revert  \\\n",
       "0            NaN        0.0      0     0    0    0             1       0   \n",
       "1            3.0    50318.0      0     0    0    0             1       0   \n",
       "2            NaN       81.0      0     0    0    0             1       0   \n",
       "3            NaN      105.0      0     0    0    0             1       0   \n",
       "4            1.0      438.0      0     0    0    0             1       0   \n",
       "\n",
       "   undo  updated  \n",
       "0     0        0  \n",
       "1     0        0  \n",
       "2     0        0  \n",
       "3     0        0  \n",
       "4     0        0  "
      ],
      "text/html": [
       "<div>\n",
       "<style scoped>\n",
       "    .dataframe tbody tr th:only-of-type {\n",
       "        vertical-align: middle;\n",
       "    }\n",
       "\n",
       "    .dataframe tbody tr th {\n",
       "        vertical-align: top;\n",
       "    }\n",
       "\n",
       "    .dataframe thead th {\n",
       "        text-align: right;\n",
       "    }\n",
       "</style>\n",
       "<table border=\"1\" class=\"dataframe\">\n",
       "  <thead>\n",
       "    <tr style=\"text-align: right;\">\n",
       "      <th></th>\n",
       "      <th>time_interval</th>\n",
       "      <th>edit_size</th>\n",
       "      <th>added</th>\n",
       "      <th>auto</th>\n",
       "      <th>bot</th>\n",
       "      <th>fix</th>\n",
       "      <th>generic_edit</th>\n",
       "      <th>revert</th>\n",
       "      <th>undo</th>\n",
       "      <th>updated</th>\n",
       "    </tr>\n",
       "  </thead>\n",
       "  <tbody>\n",
       "    <tr>\n",
       "      <th>0</th>\n",
       "      <td>NaN</td>\n",
       "      <td>0.0</td>\n",
       "      <td>0</td>\n",
       "      <td>0</td>\n",
       "      <td>0</td>\n",
       "      <td>0</td>\n",
       "      <td>1</td>\n",
       "      <td>0</td>\n",
       "      <td>0</td>\n",
       "      <td>0</td>\n",
       "    </tr>\n",
       "    <tr>\n",
       "      <th>1</th>\n",
       "      <td>3.0</td>\n",
       "      <td>50318.0</td>\n",
       "      <td>0</td>\n",
       "      <td>0</td>\n",
       "      <td>0</td>\n",
       "      <td>0</td>\n",
       "      <td>1</td>\n",
       "      <td>0</td>\n",
       "      <td>0</td>\n",
       "      <td>0</td>\n",
       "    </tr>\n",
       "    <tr>\n",
       "      <th>2</th>\n",
       "      <td>NaN</td>\n",
       "      <td>81.0</td>\n",
       "      <td>0</td>\n",
       "      <td>0</td>\n",
       "      <td>0</td>\n",
       "      <td>0</td>\n",
       "      <td>1</td>\n",
       "      <td>0</td>\n",
       "      <td>0</td>\n",
       "      <td>0</td>\n",
       "    </tr>\n",
       "    <tr>\n",
       "      <th>3</th>\n",
       "      <td>NaN</td>\n",
       "      <td>105.0</td>\n",
       "      <td>0</td>\n",
       "      <td>0</td>\n",
       "      <td>0</td>\n",
       "      <td>0</td>\n",
       "      <td>1</td>\n",
       "      <td>0</td>\n",
       "      <td>0</td>\n",
       "      <td>0</td>\n",
       "    </tr>\n",
       "    <tr>\n",
       "      <th>4</th>\n",
       "      <td>1.0</td>\n",
       "      <td>438.0</td>\n",
       "      <td>0</td>\n",
       "      <td>0</td>\n",
       "      <td>0</td>\n",
       "      <td>0</td>\n",
       "      <td>1</td>\n",
       "      <td>0</td>\n",
       "      <td>0</td>\n",
       "      <td>0</td>\n",
       "    </tr>\n",
       "  </tbody>\n",
       "</table>\n",
       "</div>"
      ]
     },
     "execution_count": 9,
     "metadata": {},
     "output_type": "execute_result"
    }
   ],
   "execution_count": 9
  },
  {
   "cell_type": "code",
   "metadata": {
    "collapsed": false,
    "jupyter": {
     "outputs_hidden": false
    },
    "ExecuteTime": {
     "end_time": "2024-11-19T21:18:14.655773Z",
     "start_time": "2024-11-19T21:18:13.691894Z"
    }
   },
   "source": [
    "train_data = lgb.Dataset(X_train, label=y_train)\n",
    "valid_data = lgb.Dataset(X_val, label=y_val)\n",
    "\n",
    "# LightGBM parameters\n",
    "params = {\n",
    "    'objective': 'binary',\n",
    "    'metric': 'binary_logloss',\n",
    "    'boosting_type': 'gbdt',\n",
    "    'num_leaves': 31,\n",
    "    'learning_rate': 0.05,\n",
    "    'feature_fraction': 0.9\n",
    "}\n",
    "\n",
    "# Train the LightGBM model with early stopping\n",
    "model = lgb.train(\n",
    "    params,\n",
    "    train_data,\n",
    "    num_boost_round=100,\n",
    "    valid_sets=[train_data, valid_data],\n",
    "    valid_names=[\"train\", \"valid\"],)\n",
    "\n",
    "# Predict on the test set\n",
    "y_pred_proba = model.predict(X_test)\n",
    "y_pred = (y_pred_proba >= 0.5).astype(int)\n",
    "\n",
    "# Evaluate the LightGBM model\n",
    "ml_metrics = {\n",
    "    'accuracy': accuracy_score(y_test, y_pred),\n",
    "    'precision': precision_score(y_test, y_pred),\n",
    "    'recall': recall_score(y_test, y_pred),\n",
    "    'f1_score': f1_score(y_test, y_pred),\n",
    "    'confusion_matrix': confusion_matrix(y_test, y_pred)\n",
    "}\n",
    "\n",
    "# Plot confusion matrices for both models\n",
    "plot_confusion_matrix(ml_metrics['confusion_matrix'], \"LightGBM Confusion Matrix\")\n",
    "print(\"accuracy:\", ml_metrics['accuracy'])\n",
    "print(\"precision:\", ml_metrics['precision'])\n",
    "print(\"recall:\", ml_metrics['recall'])\n",
    "print(\"f1_score:\", ml_metrics['f1_score'])\n",
    "\n",
    "model.save_model(f\"{artifact_folder}/bot_classifier.bin\")\n"
   ],
   "outputs": [
    {
     "name": "stdout",
     "output_type": "stream",
     "text": [
      "[LightGBM] [Info] Number of positive: 11624, number of negative: 20482\n",
      "[LightGBM] [Info] Auto-choosing col-wise multi-threading, the overhead of testing was 0.000391 seconds.\n",
      "You can set `force_col_wise=true` to remove the overhead.\n",
      "[LightGBM] [Info] Total Bins 524\n",
      "[LightGBM] [Info] Number of data points in the train set: 32106, number of used features: 9\n",
      "[LightGBM] [Info] [binary:BoostFromScore]: pavg=0.362051 -> initscore=-0.566475\n",
      "[LightGBM] [Info] Start training from score -0.566475\n"
     ]
    },
    {
     "data": {
      "text/plain": [
       "<Figure size 800x600 with 2 Axes>"
      ],
      "image/png": "[encoded data removed]"
     },
     "metadata": {},
     "output_type": "display_data"
    },
    {
     "name": "stdout",
     "output_type": "stream",
     "text": [
      "accuracy: 0.8761833582461385\n",
      "precision: 0.9093625498007968\n",
      "recall: 0.6921910538286581\n",
      "f1_score: 0.7860525182953078\n"
     ]
    },
    {
     "data": {
      "text/plain": [
       "<lightgbm.basic.Booster at 0x1304783e0>"
      ]
     },
     "execution_count": 10,
     "metadata": {},
     "output_type": "execute_result"
    }
   ],
   "execution_count": 10
  },
  {
   "metadata": {},
   "cell_type": "markdown",
   "source": [
    "# Making the predictions on X_test to fill the bloom filter\n",
    "\n",
    "---"
   ]
  },
  {
   "metadata": {
    "ExecuteTime": {
     "end_time": "2024-11-19T21:30:09.283585Z",
     "start_time": "2024-11-19T21:30:09.278441Z"
    }
   },
   "cell_type": "code",
   "source": [
    "# find number of all bots in the data\n",
    "distinct_bots = wiki_df[wiki_df['bot_ground_truth'] == True]['username']\n",
    "distinct_bots = set(distinct_bots)\n",
    "len(distinct_bots)"
   ],
   "outputs": [
    {
     "data": {
      "text/plain": [
       "121"
      ]
     },
     "execution_count": 54,
     "metadata": {},
     "output_type": "execute_result"
    }
   ],
   "execution_count": 54
  },
  {
   "metadata": {
    "ExecuteTime": {
     "end_time": "2024-11-19T21:30:09.616330Z",
     "start_time": "2024-11-19T21:30:09.613775Z"
    }
   },
   "cell_type": "code",
   "source": "bloom_filter = BotBloomFilter(expected_elements=len(distinct_bots), fp_rate=0.1)",
   "outputs": [],
   "execution_count": 55
  },
  {
   "metadata": {
    "ExecuteTime": {
     "end_time": "2024-11-19T21:30:09.960995Z",
     "start_time": "2024-11-19T21:30:09.956980Z"
    }
   },
   "cell_type": "code",
   "source": [
    "bloom_tp = 0\n",
    "bloom_tn = 0\n",
    "bloom_fp = 0\n",
    "bloom_fn = 0\n",
    "\n",
    "distinct_bots_in_test = set()\n",
    "for truth, pred, username in zip(y_test, y_pred, username_test):\n",
    "    if truth == 1 and pred == 1 and username in distinct_bots:\n",
    "        distinct_bots_in_test.add(username)\n",
    "        bloom_tp += 1  \n",
    "    elif truth == 0 and pred == 0:\n",
    "        bloom_tn += 1 \n",
    "    elif truth == 0 and pred == 1:\n",
    "        bloom_fp += 1\n",
    "    elif truth == 1 and pred == 0:\n",
    "        bloom_fn += 1\n"
   ],
   "outputs": [],
   "execution_count": 56
  },
  {
   "metadata": {
    "ExecuteTime": {
     "end_time": "2024-11-19T21:30:10.381422Z",
     "start_time": "2024-11-19T21:30:10.379267Z"
    }
   },
   "cell_type": "code",
   "source": [
    "# number of correctly found bots in test \n",
    "len(distinct_bots_in_test)"
   ],
   "outputs": [
    {
     "data": {
      "text/plain": [
       "37"
      ]
     },
     "execution_count": 57,
     "metadata": {},
     "output_type": "execute_result"
    }
   ],
   "execution_count": 57
  },
  {
   "metadata": {},
   "cell_type": "markdown",
   "source": [
    "# Save bloom filter parameters as json artifact\n",
    "\n",
    "---"
   ]
  },
  {
   "metadata": {
    "ExecuteTime": {
     "end_time": "2024-11-19T21:30:27.148287Z",
     "start_time": "2024-11-19T21:30:27.142850Z"
    }
   },
   "cell_type": "code",
   "source": [
    "# save bloom filter that with bots that we successfully found while testing\n",
    "bloom_filter = BotBloomFilter(expected_elements=len(distinct_bots_in_test), fp_rate=0.1)\n",
    "for bot in distinct_bots_in_test:\n",
    "    bloom_filter.add(bot)\n",
    "    \n",
    "bloom_filter.save_to_json(f\"{artifact_folder}/bloom_filter_params.json\")"
   ],
   "outputs": [],
   "execution_count": 58
  },
  {
   "metadata": {},
   "cell_type": "code",
   "outputs": [],
   "execution_count": null,
   "source": ""
  }
 ],
 "metadata": {
  "kernelspec": {
   "display_name": "Python 3 (ipykernel)",
   "language": "python",
   "name": "python3"
  },
  "language_info": {
   "codemirror_mode": {
    "name": "ipython",
    "version": 3
   },
   "file_extension": ".py",
   "mimetype": "text/x-python",
   "name": "python",
   "nbconvert_exporter": "python",
   "pygments_lexer": "ipython3",
   "version": "3.12.4"
  }
 },
 "nbformat": 4,
 "nbformat_minor": 4
}
